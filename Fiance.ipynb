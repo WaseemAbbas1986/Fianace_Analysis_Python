{
 "cells": [
  {
   "cell_type": "code",
   "execution_count": 1,
   "metadata": {},
   "outputs": [],
   "source": [
    "import pandas as pd\n",
    "import numpy as np"
   ]
  },
  {
   "cell_type": "code",
   "execution_count": 2,
   "metadata": {},
   "outputs": [
    {
     "data": {
      "text/html": [
       "<div>\n",
       "<style scoped>\n",
       "    .dataframe tbody tr th:only-of-type {\n",
       "        vertical-align: middle;\n",
       "    }\n",
       "\n",
       "    .dataframe tbody tr th {\n",
       "        vertical-align: top;\n",
       "    }\n",
       "\n",
       "    .dataframe thead th {\n",
       "        text-align: right;\n",
       "    }\n",
       "</style>\n",
       "<table border=\"1\" class=\"dataframe\">\n",
       "  <thead>\n",
       "    <tr style=\"text-align: right;\">\n",
       "      <th></th>\n",
       "      <th>transaction_id</th>\n",
       "      <th>customer_id</th>\n",
       "      <th>customer_name</th>\n",
       "      <th>transaction_date</th>\n",
       "      <th>amount</th>\n",
       "      <th>category</th>\n",
       "      <th>status</th>\n",
       "      <th>payment_method</th>\n",
       "      <th>region</th>\n",
       "      <th>merchant_name</th>\n",
       "    </tr>\n",
       "  </thead>\n",
       "  <tbody>\n",
       "    <tr>\n",
       "      <th>0</th>\n",
       "      <td>1</td>\n",
       "      <td>116</td>\n",
       "      <td>Hannah Taylor</td>\n",
       "      <td>27-08-24</td>\n",
       "      <td>61.37</td>\n",
       "      <td>Income</td>\n",
       "      <td>Completed</td>\n",
       "      <td>Credit Card</td>\n",
       "      <td>West</td>\n",
       "      <td>Merchant_14</td>\n",
       "    </tr>\n",
       "    <tr>\n",
       "      <th>1</th>\n",
       "      <td>2</td>\n",
       "      <td>120</td>\n",
       "      <td>George King</td>\n",
       "      <td>05-08-24</td>\n",
       "      <td>546.56</td>\n",
       "      <td>Expense</td>\n",
       "      <td>Completed</td>\n",
       "      <td>Bank Transfer</td>\n",
       "      <td>West</td>\n",
       "      <td>Merchant_8</td>\n",
       "    </tr>\n",
       "    <tr>\n",
       "      <th>2</th>\n",
       "      <td>3</td>\n",
       "      <td>112</td>\n",
       "      <td>Jessica Lee</td>\n",
       "      <td>18-01-24</td>\n",
       "      <td>908.56</td>\n",
       "      <td>Expense</td>\n",
       "      <td>Completed</td>\n",
       "      <td>PayPal</td>\n",
       "      <td>West</td>\n",
       "      <td>Merchant_39</td>\n",
       "    </tr>\n",
       "    <tr>\n",
       "      <th>3</th>\n",
       "      <td>4</td>\n",
       "      <td>113</td>\n",
       "      <td>George King</td>\n",
       "      <td>30-05-24</td>\n",
       "      <td>976.36</td>\n",
       "      <td>Expense</td>\n",
       "      <td>Pending</td>\n",
       "      <td>PayPal</td>\n",
       "      <td>South</td>\n",
       "      <td>Merchant_7</td>\n",
       "    </tr>\n",
       "    <tr>\n",
       "      <th>4</th>\n",
       "      <td>5</td>\n",
       "      <td>105</td>\n",
       "      <td>Fiona Green</td>\n",
       "      <td>12-03-24</td>\n",
       "      <td>261.62</td>\n",
       "      <td>Expense</td>\n",
       "      <td>Completed</td>\n",
       "      <td>Debit Card</td>\n",
       "      <td>East</td>\n",
       "      <td>Merchant_30</td>\n",
       "    </tr>\n",
       "  </tbody>\n",
       "</table>\n",
       "</div>"
      ],
      "text/plain": [
       "   transaction_id  customer_id  customer_name transaction_date  amount  \\\n",
       "0               1          116  Hannah Taylor         27-08-24   61.37   \n",
       "1               2          120    George King         05-08-24  546.56   \n",
       "2               3          112    Jessica Lee         18-01-24  908.56   \n",
       "3               4          113    George King         30-05-24  976.36   \n",
       "4               5          105    Fiona Green         12-03-24  261.62   \n",
       "\n",
       "  category     status payment_method region merchant_name  \n",
       "0   Income  Completed    Credit Card   West   Merchant_14  \n",
       "1  Expense  Completed  Bank Transfer   West    Merchant_8  \n",
       "2  Expense  Completed         PayPal   West   Merchant_39  \n",
       "3  Expense    Pending         PayPal  South    Merchant_7  \n",
       "4  Expense  Completed     Debit Card   East   Merchant_30  "
      ]
     },
     "execution_count": 2,
     "metadata": {},
     "output_type": "execute_result"
    }
   ],
   "source": [
    "df = pd.read_csv(\"finance_transactions.csv\")\n",
    "df.head()"
   ]
  },
  {
   "cell_type": "code",
   "execution_count": 3,
   "metadata": {},
   "outputs": [
    {
     "name": "stdout",
     "output_type": "stream",
     "text": [
      "<class 'pandas.core.frame.DataFrame'>\n",
      "RangeIndex: 500 entries, 0 to 499\n",
      "Data columns (total 10 columns):\n",
      " #   Column            Non-Null Count  Dtype  \n",
      "---  ------            --------------  -----  \n",
      " 0   transaction_id    500 non-null    int64  \n",
      " 1   customer_id       500 non-null    int64  \n",
      " 2   customer_name     500 non-null    object \n",
      " 3   transaction_date  500 non-null    object \n",
      " 4   amount            500 non-null    float64\n",
      " 5   category          500 non-null    object \n",
      " 6   status            500 non-null    object \n",
      " 7   payment_method    500 non-null    object \n",
      " 8   region            500 non-null    object \n",
      " 9   merchant_name     500 non-null    object \n",
      "dtypes: float64(1), int64(2), object(7)\n",
      "memory usage: 39.2+ KB\n"
     ]
    }
   ],
   "source": [
    "df.info()"
   ]
  },
  {
   "cell_type": "code",
   "execution_count": 4,
   "metadata": {},
   "outputs": [],
   "source": [
    "df[\"transaction_date\"] = df[\"transaction_date\"].astype(\"datetime64[ms]\")"
   ]
  },
  {
   "cell_type": "code",
   "execution_count": 5,
   "metadata": {},
   "outputs": [
    {
     "name": "stdout",
     "output_type": "stream",
     "text": [
      "                total_amount  avg_amount\n",
      "payment_method                          \n",
      "Bank Transfer       31053.94  544.805965\n",
      "Credit Card         24849.08  496.981600\n",
      "PayPal              23933.08  520.284348\n",
      "Debit Card          22002.84  458.392500\n",
      "Cash                19858.55  472.822619\n"
     ]
    }
   ],
   "source": [
    "# find the total amount of transactions and the average transaction amount for each payment method, but only for transactions with a\n",
    "# status of 'Completed.' Order the results by the total amount in descending order\n",
    "\n",
    "# Filter the dataset for transactions with 'Completed' status\n",
    "completed_transactions = df[df['status'] == 'Completed']\n",
    "\n",
    "# Group by payment method and calculate total amount and average transaction amount\n",
    "result = completed_transactions.groupby('payment_method').agg(\n",
    "    total_amount=('amount', 'sum'),     # Sum of the transaction amounts\n",
    "    avg_amount=('amount', 'mean')       # Average of the transaction amounts\n",
    ")\n",
    "\n",
    "# Sort the result by total amount in descending order\n",
    "result_sorted = result.sort_values(by='total_amount', ascending=False)\n",
    "\n",
    "print(result_sorted)\n"
   ]
  },
  {
   "cell_type": "code",
   "execution_count": 6,
   "metadata": {},
   "outputs": [
    {
     "data": {
      "text/plain": [
       "customer_name\n",
       "Hannah Taylor    34189.00\n",
       "Jessica Lee      29320.15\n",
       "Fiona Green      28851.42\n",
       "George King      28713.34\n",
       "Ian Martin       26404.12\n",
       "Name: amount, dtype: float64"
      ]
     },
     "execution_count": 6,
     "metadata": {},
     "output_type": "execute_result"
    }
   ],
   "source": [
    "# find the top 5 customers who have spent the highest total amount.\n",
    "df.groupby(\"customer_name\")[\"amount\"].sum().sort_values(ascending=False).head(5)"
   ]
  },
  {
   "cell_type": "code",
   "execution_count": 7,
   "metadata": {},
   "outputs": [
    {
     "name": "stdout",
     "output_type": "stream",
     "text": [
      "category\n",
      "Expense    53290.08\n",
      "Income     51382.64\n",
      "Name: amount, dtype: float64\n"
     ]
    }
   ],
   "source": [
    "# find the total amount spent per category where the transactions were made using either 'Credit Card' or 'Debit Card' as the payment method.\n",
    "# Only include categories where the total amount spent is greater than $1000. Order the results by total_amount in descending order\n",
    "filter_data = df[df[\"payment_method\"].isin([\"Debit Card\",\"Credit Card\"])]\n",
    "category_Total = filter_data.groupby(\"category\")[\"amount\"].sum()\n",
    "category_Total_filter = category_Total[category_Total > 1000]\n",
    "sort_value = category_Total_filter.sort_values(ascending=False)\n",
    "print(sort_value)"
   ]
  },
  {
   "cell_type": "code",
   "execution_count": 8,
   "metadata": {},
   "outputs": [
    {
     "name": "stdout",
     "output_type": "stream",
     "text": [
      "        Total_Amount  Avg_Amount\n",
      "region                          \n",
      "East        68291.22  521.307023\n",
      "South       67859.58  521.996769\n",
      "West        64674.40  497.495385\n",
      "North       57949.83  531.649817\n"
     ]
    }
   ],
   "source": [
    "# find the average transaction amount for each region where the transaction status is 'Pending' or 'Completed'. Show the region and the\n",
    "# average transaction amount, and order the results by region in ascending order.\n",
    "filter_status = df[\n",
    "    df[\"status\"].isin([\"Pending\",\"Completed\"])\n",
    "]\n",
    "filter_Region = filter_status.groupby(\"region\")[\"amount\"].agg(\n",
    "    Total_Amount = \"sum\", Avg_Amount = \"mean\")\n",
    "sort_Region = filter_Region.sort_values(by = \"Total_Amount\",ascending=False)\n",
    "print(sort_Region)\n"
   ]
  },
  {
   "cell_type": "code",
   "execution_count": 9,
   "metadata": {},
   "outputs": [
    {
     "name": "stdout",
     "output_type": "stream",
     "text": [
      "               Total_count  Total_Amount\n",
      "merchant_name                           \n",
      "Merchant_32             12       7175.72\n",
      "Merchant_15              8       3718.64\n",
      "Merchant_4               8       3966.65\n",
      "Merchant_37              8       3325.55\n",
      "Merchant_30              8       4657.54\n",
      "Merchant_16              8       3708.10\n",
      "Merchant_10              7       2492.22\n",
      "Merchant_31              7       3132.52\n",
      "Merchant_39              7       5136.78\n",
      "Merchant_38              7       4854.18\n"
     ]
    }
   ],
   "source": [
    "# find the total number of transactions and the total amount spent for each merchant in the 'Expense' category\n",
    "# Show the merchant's name, the total number of transactions, and the total amount spent\n",
    "filter_Category = df[\n",
    "    df[\"category\"]==\"Expense\"\n",
    "    ]\n",
    "group_category = filter_Category.groupby(\"merchant_name\").agg(\n",
    "    Total_count = (\"transaction_id\",\"count\"),Total_Amount = (\"amount\",\"sum\")\n",
    "    )\n",
    "sort_Result = group_category.sort_values(by = \"Total_count\", ascending=False).head(10)\n",
    "print(sort_Result)"
   ]
  },
  {
   "cell_type": "code",
   "execution_count": 10,
   "metadata": {},
   "outputs": [
    {
     "name": "stdout",
     "output_type": "stream",
     "text": [
      "region\n",
      "East     568.73\n",
      "North     53.97\n",
      "South    434.54\n",
      "Name: amount, dtype: float64\n"
     ]
    }
   ],
   "source": [
    "# find the average transaction amount for each region where the payment_method is 'Cash' and the status is 'Completed', but only for\n",
    "# transactions that occurred in the first quarter of 2024 (January, February, and March). Show the region and the average transaction amount.\n",
    "filter_data = df[\n",
    "    (df[\"payment_method\"]== \"Cash\") & \n",
    "    (df[\"status\"]== \"Completed\") & \n",
    "    (df[\"transaction_date\"].between('2024-01-01','2024-03-31'))\n",
    "    ]\n",
    "Result_data = filter_data.groupby(\"region\")[\"amount\"].mean()\n",
    "print(Result_data)"
   ]
  },
  {
   "cell_type": "code",
   "execution_count": 11,
   "metadata": {},
   "outputs": [
    {
     "name": "stdout",
     "output_type": "stream",
     "text": [
      "    customer_name  customer_id   amount\n",
      "0   Alice Johnson          105   702.91\n",
      "1   Alice Johnson          107   507.03\n",
      "2   Alice Johnson          108   488.00\n",
      "3   Alice Johnson          109   983.23\n",
      "4   Alice Johnson          111   674.23\n",
      "..            ...          ...      ...\n",
      "78    Jessica Lee          114   957.34\n",
      "79    Jessica Lee          115   166.72\n",
      "80    Jessica Lee          117  1374.08\n",
      "81    Jessica Lee          118   925.91\n",
      "82    Jessica Lee          120   456.07\n",
      "\n",
      "[83 rows x 3 columns]\n"
     ]
    }
   ],
   "source": [
    "# find the total amount spent in the 'Income' category for each customer, but only for transactions where the payment method is either 'Bank\n",
    "# Transfer' or 'PayPal'. Show the customer_name, customer_id, and the total amount spent in the 'Income' category.\n",
    "filterd_data  = df[\n",
    "    (df[\"category\"] == \"Income\") &\n",
    "    (df[\"payment_method\"].isin([\"Bank Transfer\",\"PayPal\"]))]\n",
    "Result_Groupby = filterd_data.groupby(\n",
    "    [\"customer_name\",\"customer_id\"])[\"amount\"].sum().reset_index()\n",
    "print(Result_Groupby)"
   ]
  },
  {
   "cell_type": "code",
   "execution_count": 12,
   "metadata": {},
   "outputs": [
    {
     "name": "stdout",
     "output_type": "stream",
     "text": [
      "   merchant_name   amount\n",
      "25   Merchant_32  7175.72\n"
     ]
    }
   ],
   "source": [
    "# find the merchant(s) who have the highest total transaction amount in the 'Expense' category.\n",
    "# Show the merchant_name and the total amount spent for that merchant. \n",
    "filterd_merchant = df[\n",
    "    df[\"category\"]== \"Expense\"\n",
    "    ]\n",
    "result_Merchant = filterd_merchant.groupby(\n",
    "    \"merchant_name\")[\"amount\"].sum().reset_index().sort_values(\n",
    "        by = \"amount\", ascending=False).head(1)\n",
    "print(result_Merchant)"
   ]
  },
  {
   "cell_type": "code",
   "execution_count": 13,
   "metadata": {},
   "outputs": [
    {
     "name": "stdout",
     "output_type": "stream",
     "text": [
      "                Total_Count  Total_amount\n",
      "payment_method                           \n",
      "Bank Transfer            61      33728.35\n",
      "Cash                     46      24195.73\n",
      "Credit Card              46      26043.36\n",
      "Debit Card               52      27246.72\n",
      "PayPal                   40      21290.82\n"
     ]
    }
   ],
   "source": [
    "# find the total number of transactions and the total amount for each payment method in the 'Expense' category. Only include the results for payment\n",
    "# methods that have more than 5 transactions. Show the payment_method, the total number of transactions, and the total amount spent for each payment method\n",
    "filterd_merchant_category = df[\n",
    "    df[\"category\"]== \"Expense\"\n",
    "    ]\n",
    "result_filterd_merchant_category = filterd_merchant_category.groupby(\"payment_method\").agg(\n",
    "    Total_Count = (\"transaction_id\",\"count\"), Total_amount = (\"amount\",\"sum\")\n",
    ")\n",
    "print(result_filterd_merchant_category)"
   ]
  },
  {
   "cell_type": "code",
   "execution_count": 14,
   "metadata": {},
   "outputs": [
    {
     "name": "stdout",
     "output_type": "stream",
     "text": [
      "     customer_name  customer_id  amount\n",
      "0    Alice Johnson          101   55.17\n",
      "1    Alice Johnson          102  487.84\n",
      "2    Alice Johnson          103  669.80\n",
      "3    Alice Johnson          104  254.19\n",
      "4    Alice Johnson          105  228.16\n",
      "..             ...          ...     ...\n",
      "130    Jessica Lee          116  171.60\n",
      "131    Jessica Lee          117  168.63\n",
      "132    Jessica Lee          118  708.49\n",
      "133    Jessica Lee          119  620.85\n",
      "134    Jessica Lee          120  630.39\n",
      "\n",
      "[135 rows x 3 columns]\n"
     ]
    }
   ],
   "source": [
    "# find the average transaction amount for each customer in the 'Expense' category. Show the customer_name, customer_id, and the average transaction amount\n",
    "filterd_merchantcategory = df[\n",
    "    df[\"category\"]== \"Expense\"\n",
    "    ]\n",
    "result_filterd_merchantcategory = filterd_merchantcategory.groupby(\n",
    "    [\"customer_name\",\"customer_id\"])[\"amount\"].mean().reset_index()\n",
    "print(result_filterd_merchantcategory)"
   ]
  },
  {
   "cell_type": "code",
   "execution_count": 15,
   "metadata": {},
   "outputs": [
    {
     "name": "stdout",
     "output_type": "stream",
     "text": [
      "  merchant_name      amount\n",
      "0   Merchant_40  807.063333\n",
      "1    Merchant_9  781.614000\n",
      "2   Merchant_49  742.313333\n"
     ]
    }
   ],
   "source": [
    "# find the top 3 merchants in terms of the average transaction amount in the 'Expense' category. Show\n",
    "# the merchant_name and the average transaction amount for each of the top 3 merchants\n",
    "filter_merchents = df[\n",
    "    df[\"category\"]== \"Expense\"\n",
    "    ]\n",
    "groupby_merchant = filter_merchents.groupby(\n",
    "    \"merchant_name\")[\"amount\"].mean().sort_values(ascending=False).head(3).reset_index()\n",
    "print(groupby_merchant)"
   ]
  },
  {
   "cell_type": "code",
   "execution_count": 16,
   "metadata": {},
   "outputs": [
    {
     "name": "stdout",
     "output_type": "stream",
     "text": [
      "  region    amount\n",
      "0   West  40080.65\n",
      "1   East  33071.90\n",
      "2  South  31247.90\n"
     ]
    }
   ],
   "source": [
    "# find the top 3 regions based on the total amount for the 'Expense' category, ordered by\n",
    "# total amount in descending order. Make sure to display the region and the total amount\n",
    "filter_data_merchents = df[\n",
    "    df[\"category\"]== \"Expense\"\n",
    "    ]\n",
    "groupby_Regions = filter_data_merchents.groupby(\n",
    "    [\"region\"])[\"amount\"].sum().sort_values(ascending=False).reset_index().head(3)\n",
    "print(groupby_Regions)"
   ]
  },
  {
   "cell_type": "code",
   "execution_count": 17,
   "metadata": {},
   "outputs": [
    {
     "name": "stdout",
     "output_type": "stream",
     "text": [
      "  payment_method  Avg_Amount\n",
      "0  Bank Transfer  615.324500\n",
      "1         PayPal  488.192667\n",
      "2           Cash  452.364737\n",
      "3    Credit Card  445.305172\n",
      "4     Debit Card  417.993750\n"
     ]
    }
   ],
   "source": [
    "# find the average amount per payment method for the 'Income' category, but only for transactions that have a status of 'Completed'.\n",
    "# Make sure to group the results by payment method and order the results by average amount in descending order\n",
    "filter_payment_method = df[\n",
    "    (df[\"category\"]== \"Income\") & \n",
    "    (df[\"status\"]== \"Completed\")\n",
    "    ]\n",
    "result_Payment_Method = filter_payment_method.groupby(\n",
    "    \"payment_method\")[\"amount\"].mean().sort_values(ascending=False).reset_index()\n",
    "result_Payment_Method.columns = (\"payment_method\", \"Avg_Amount\")\n",
    "print(result_Payment_Method)"
   ]
  },
  {
   "cell_type": "code",
   "execution_count": 18,
   "metadata": {},
   "outputs": [
    {
     "name": "stdout",
     "output_type": "stream",
     "text": [
      "                           Total_Trasection  Total_Amount\n",
      "customer_name customer_id                                \n",
      "Jessica Lee   102                         4       2691.72\n",
      "Ian Martin    104                         3       2309.12\n",
      "Hannah Taylor 113                         4       2194.55\n",
      "Bob Smith     105                         3       1908.48\n",
      "Hannah Taylor 105                         3       1793.06\n",
      "...                                     ...           ...\n",
      "Charlie Brown 108                         1        139.62\n",
      "Bob Smith     115                         1        138.15\n",
      "Ethan Black   110                         1         95.86\n",
      "Fiona Green   104                         1         90.30\n",
      "Alice Johnson 119                         1         71.71\n",
      "\n",
      "[135 rows x 2 columns]\n"
     ]
    }
   ],
   "source": [
    "# find the total number of transactions and the total amount for each customer where the payment method is\n",
    "# either 'Credit Card' or 'Debit Card'. Group the results by customer_name and customer_id, and order them by total amount in descending order\n",
    "filter_data_payment_method = df[\n",
    "    df[\"payment_method\"].isin([\"Credit Card\",\"Debit Card\"])\n",
    "    ]\n",
    "groupby_customer_name = filter_data_payment_method.groupby(\n",
    "    [\"customer_name\",\"customer_id\"]).agg(\n",
    "        Total_Trasection = (\"transaction_id\",\"count\"),\n",
    "        Total_Amount = (\"amount\",\"sum\")\n",
    ").sort_values(\n",
    "    by =\"Total_Amount\", ascending=False\n",
    "    )\n",
    "print(groupby_customer_name)"
   ]
  },
  {
   "cell_type": "code",
   "execution_count": 19,
   "metadata": {},
   "outputs": [
    {
     "name": "stdout",
     "output_type": "stream",
     "text": [
      "   Merchant_Name  Total_Amount\n",
      "0    Merchant_27       3167.81\n",
      "1    Merchant_16       2408.38\n",
      "2    Merchant_34       2333.73\n",
      "3    Merchant_28       2227.31\n",
      "4     Merchant_3       2203.35\n",
      "5    Merchant_18       2132.43\n",
      "6     Merchant_4       2056.14\n",
      "7    Merchant_45       1989.14\n",
      "8    Merchant_11       1585.49\n",
      "9    Merchant_23       1538.66\n",
      "10   Merchant_30       1393.36\n",
      "11    Merchant_9       1328.10\n",
      "12   Merchant_48       1142.08\n",
      "13   Merchant_42       1133.73\n",
      "14   Merchant_26        983.48\n",
      "15    Merchant_8        983.23\n",
      "16    Merchant_7        952.32\n",
      "17   Merchant_38        927.22\n",
      "18   Merchant_40        897.45\n",
      "19    Merchant_1        883.41\n",
      "20   Merchant_49        867.48\n",
      "21   Merchant_43        850.38\n",
      "22   Merchant_33        817.88\n",
      "23   Merchant_17        750.64\n",
      "24   Merchant_44        723.61\n",
      "25   Merchant_47        684.33\n",
      "26   Merchant_32        670.96\n",
      "27   Merchant_21        646.64\n",
      "28   Merchant_37        608.60\n",
      "29   Merchant_41        605.77\n",
      "30   Merchant_22        598.48\n",
      "31   Merchant_39        588.94\n",
      "32   Merchant_36        585.99\n",
      "33   Merchant_12        578.77\n"
     ]
    }
   ],
   "source": [
    "# find the merchant name and the total amount for each merchant in the 'Income' category where\n",
    "# the transaction status is 'Completed'. Display the merchants who have a total amount greater than 500\n",
    "filter_categoty_Status = df[\n",
    "    (df[\"category\"]== \"Income\") & \n",
    "    (df[\"status\"]== \"Completed\") & \n",
    "    (df[\"amount\"]> 500)\n",
    "    ]\n",
    "Result_categoty_Status = filter_categoty_Status.groupby(\n",
    "    \"merchant_name\")[\"amount\"].sum().sort_values(ascending=False).reset_index()\n",
    "Result_categoty_Status.columns = (\"Merchant_Name\",\"Total_Amount\")\n",
    "print(Result_categoty_Status)"
   ]
  },
  {
   "cell_type": "code",
   "execution_count": 20,
   "metadata": {},
   "outputs": [
    {
     "name": "stdout",
     "output_type": "stream",
     "text": [
      "   customer_name  customer_id   amount\n",
      "0    Fiona Green          103  3550.88\n",
      "1  Hannah Taylor          105  3097.61\n",
      "2    George King          120  3001.13\n",
      "3  Hannah Taylor          120  2875.99\n",
      "4  Hannah Taylor          113  2517.25\n"
     ]
    }
   ],
   "source": [
    "# find the top 5 customers who have spent the most in the 'Expense' category in year 2024, showing\n",
    "# customer name, customer id, and the total amount spent. Order the results by total amount in descending order\n",
    "filter_expense_category = df[\n",
    "    (df[\"category\"]==\"Expense\") & \n",
    "    (pd.to_datetime(df[\"transaction_date\"]).dt.year == 2024)\n",
    "    ]\n",
    "result_customer = filter_expense_category.groupby(\n",
    "    [\"customer_name\",\"customer_id\"])[\"amount\"].sum().sort_values(ascending=False).reset_index().head(5)\n",
    "print(result_customer)\n"
   ]
  },
  {
   "cell_type": "code",
   "execution_count": 21,
   "metadata": {},
   "outputs": [
    {
     "name": "stdout",
     "output_type": "stream",
     "text": [
      "  Region Payment_Method  Avg_Amount\n",
      "0   East  Bank Transfer  543.903636\n",
      "1  North  Bank Transfer  687.570000\n",
      "2  South  Bank Transfer  573.516154\n",
      "3   West  Bank Transfer  508.428333\n"
     ]
    }
   ],
   "source": [
    "# find the average transaction amount for each region in the 'Income' category, but only for\n",
    "# transactions where the payment method is 'Bank Transfer'. Group the results by region and payment method, and order them by region\n",
    "filter_ctegory_and_payment_method = df[\n",
    "    (df[\"category\"] == \"Income\") & \n",
    "    (df[\"payment_method\"]==\"Bank Transfer\")\n",
    "    ]\n",
    "groupby_payment_Method = filter_ctegory_and_payment_method.groupby(\n",
    "    [\"region\",\"payment_method\"])[\"amount\"].mean().reset_index().sort_values(by = \"region\")\n",
    "groupby_payment_Method.columns = (\n",
    "    \"Region\",\"Payment_Method\",\"Avg_Amount\"\n",
    "    )\n",
    "print(groupby_payment_Method)"
   ]
  },
  {
   "cell_type": "code",
   "execution_count": 22,
   "metadata": {},
   "outputs": [
    {
     "name": "stdout",
     "output_type": "stream",
     "text": [
      "    month  total_amount  transaction_count\n",
      "0       1      12078.04                 18\n",
      "1       2      12696.82                 22\n",
      "2       3      11710.51                 20\n",
      "3       4       5732.07                 13\n",
      "4       5      12949.09                 25\n",
      "5       6       7814.70                 17\n",
      "6       7      11301.86                 24\n",
      "7       8      13164.80                 23\n",
      "8       9      12240.89                 24\n",
      "9      10       8774.74                 16\n",
      "10     11      13651.53                 21\n",
      "11     12      10389.93                 22\n"
     ]
    },
    {
     "name": "stderr",
     "output_type": "stream",
     "text": [
      "C:\\Users\\Waseem Abbas\\AppData\\Local\\Temp\\ipykernel_7512\\3759953935.py:8: SettingWithCopyWarning: \n",
      "A value is trying to be set on a copy of a slice from a DataFrame.\n",
      "Try using .loc[row_indexer,col_indexer] = value instead\n",
      "\n",
      "See the caveats in the documentation: https://pandas.pydata.org/pandas-docs/stable/user_guide/indexing.html#returning-a-view-versus-a-copy\n",
      "  filter_expense_2024[\"month\"] = filter_expense_2024[\"transaction_date\"].dt.month\n"
     ]
    }
   ],
   "source": [
    "# find the total amount and the number of transactions for each month in 2024 for the 'Expense'\n",
    "# category. Display the month, total amount, and transaction count, and order the results by month in ascending order\n",
    "\n",
    "filter_expense_2024 = df[\n",
    "    (df[\"category\"] == \"Expense\") & \n",
    "    (df[\"transaction_date\"].dt.year == 2024)\n",
    "]\n",
    "filter_expense_2024[\"month\"] = filter_expense_2024[\"transaction_date\"].dt.month\n",
    "result_monthly = (\n",
    "    filter_expense_2024.groupby(\"month\")\n",
    "    .agg(\n",
    "        total_amount=(\"amount\", \"sum\"),\n",
    "        transaction_count=(\"transaction_id\", \"count\")\n",
    "    )\n",
    "    .reset_index()\n",
    "    .sort_values(by=\"month\")\n",
    ")\n",
    "\n",
    "print(result_monthly)\n"
   ]
  },
  {
   "cell_type": "code",
   "execution_count": 23,
   "metadata": {},
   "outputs": [
    {
     "name": "stdout",
     "output_type": "stream",
     "text": [
      "           Total_Transections  Total_Amount  Average_amount\n",
      "status                                                     \n",
      "Pending                   133      67777.15      509.602632\n",
      "Completed                 122      58492.90      479.450000\n"
     ]
    }
   ],
   "source": [
    "# find the total number of transactions, total amount, and average amount for each status in the\n",
    "# 'Income' category. Group the results by status and order by total amount in descending order.\n",
    "filter_by_category = df[\n",
    "    df[\"category\"]==\"Income\"\n",
    "    ]\n",
    "groupby_filter_by_category = filter_by_category.groupby(\"status\").agg(\n",
    "    Total_Transections = (\"transaction_id\",\"count\"),\n",
    "    Total_Amount = (\"amount\",\"sum\"),\n",
    "    Average_amount = (\"amount\",\"mean\")\n",
    ").sort_values(by = \"Total_Amount\",ascending=False)\n",
    "print(groupby_filter_by_category)"
   ]
  },
  {
   "cell_type": "code",
   "execution_count": 24,
   "metadata": {},
   "outputs": [
    {
     "name": "stdout",
     "output_type": "stream",
     "text": [
      "    region transaction_date  amount  cumulative_total\n",
      "125   East       2024-01-06  560.62            560.62\n",
      "54    East       2024-01-16  152.67            713.29\n",
      "476   East       2024-01-17  595.75           1309.04\n",
      "261   East       2024-02-12  147.32           1456.36\n",
      "150   East       2024-02-15  142.08           1598.44\n",
      "..     ...              ...     ...               ...\n",
      "51    West       2024-12-11  901.74          23236.68\n",
      "189   West       2024-12-18  651.02          23887.70\n",
      "262   West       2024-12-23  171.90          24059.60\n",
      "457   West       2024-12-23  319.92          24379.52\n",
      "340   West       2024-12-30  214.23          24593.75\n",
      "\n",
      "[255 rows x 4 columns]\n"
     ]
    }
   ],
   "source": [
    "# calculate the cumulative total amount for each region in the 'Income' category\n",
    "# calculate this cumulative total, and display the columns: region, transaction_date, amount,\n",
    "# and the cumulative total. Order the results by region and transaction_date.\n",
    "\n",
    "filter_income = df[\n",
    "    df[\"category\"] == \"Income\"\n",
    "    ]\n",
    "filter_income = filter_income.sort_values(\n",
    "    by=[\"region\", \"transaction_date\"]\n",
    "    )\n",
    "filter_income[\"cumulative_total\"] = filter_income.groupby(\"region\")[\"amount\"].cumsum()\n",
    "result = filter_income[\n",
    "    [\"region\", \"transaction_date\", \"amount\", \"cumulative_total\"]\n",
    "    ]\n",
    "print(result)\n"
   ]
  },
  {
   "cell_type": "code",
   "execution_count": 25,
   "metadata": {},
   "outputs": [
    {
     "name": "stdout",
     "output_type": "stream",
     "text": [
      "   customer_name  customer_id  Total_Amount\n",
      "0    Fiona Green          103       3550.88\n",
      "1  Hannah Taylor          105       3097.61\n",
      "2    George King          120       3001.13\n"
     ]
    }
   ],
   "source": [
    "# find the top 3 customers who have spent the most in the 'Expense' category in 2024. For each customer, display their customer name, customer ID,\n",
    "# and total amount spent. The results should be ordered by total amount spent in descending order.\n",
    "filter_category_Expense = df[\n",
    "    (df[\"category\"] == \"Expense\") & \n",
    "    (df[\"transaction_date\"].dt.year == 2024)\n",
    "    ]\n",
    "groupby_customer = filter_category_Expense.groupby(\n",
    "    [\"customer_name\",\"customer_id\"])[\"amount\"].sum().sort_values(ascending=False).reset_index().head(3)\n",
    "groupby_customer.columns = (\"customer_name\",\"customer_id\",\"Total_Amount\")\n",
    "print(groupby_customer)"
   ]
  },
  {
   "cell_type": "code",
   "execution_count": 26,
   "metadata": {},
   "outputs": [
    {
     "name": "stdout",
     "output_type": "stream",
     "text": [
      "               First_Trasection  Last_Trasection\n",
      "merchant_name                                   \n",
      "Merchant_1                  338              297\n",
      "Merchant_10                  33              232\n",
      "Merchant_11                 499               47\n",
      "Merchant_12                 179              392\n",
      "Merchant_13                 181              379\n",
      "Merchant_14                 194              491\n",
      "Merchant_15                 207              271\n",
      "Merchant_16                 366                9\n",
      "Merchant_17                 436              198\n",
      "Merchant_18                 126              369\n",
      "Merchant_19                 262              309\n",
      "Merchant_2                  152               63\n",
      "Merchant_20                 153              153\n",
      "Merchant_21                 390              257\n",
      "Merchant_22                  55               67\n",
      "Merchant_23                 177               90\n",
      "Merchant_24                 489              197\n",
      "Merchant_25                 228               91\n",
      "Merchant_26                 277               78\n",
      "Merchant_27                 332              145\n",
      "Merchant_28                  20              494\n",
      "Merchant_29                 292              455\n",
      "Merchant_3                  255              354\n",
      "Merchant_30                 479              189\n",
      "Merchant_31                 457              487\n",
      "Merchant_32                 139              112\n",
      "Merchant_33                 395              160\n",
      "Merchant_34                 477              220\n",
      "Merchant_35                 498               61\n",
      "Merchant_36                 267               37\n",
      "Merchant_37                 387              274\n",
      "Merchant_38                  17              458\n",
      "Merchant_39                 317              291\n",
      "Merchant_4                  450               52\n",
      "Merchant_40                 361               45\n",
      "Merchant_41                 475              100\n",
      "Merchant_42                 315              263\n",
      "Merchant_43                 106              296\n",
      "Merchant_44                 441              288\n",
      "Merchant_45                 362              312\n",
      "Merchant_46                 451              270\n",
      "Merchant_47                  68              368\n",
      "Merchant_48                 363              147\n",
      "Merchant_49                 462              323\n",
      "Merchant_5                  158              437\n",
      "Merchant_50                 105              407\n",
      "Merchant_6                  452              327\n",
      "Merchant_7                  294              341\n",
      "Merchant_8                  261              190\n",
      "Merchant_9                  352              163\n"
     ]
    }
   ],
   "source": [
    "# find the first and last transaction amount for each merchant in the 'Income' category in 2024.\n",
    "# Display the merchant name, first transaction amount, and last transaction amount, and order the results by merchant name\n",
    "filter_category_income = df[\n",
    "    (df[\"category\"] == \"Income\") & \n",
    "    (df[\"transaction_date\"].dt.year == 2024)\n",
    "]\n",
    "Sort_Order = filter_category_income.sort_values([\"merchant_name\",\"transaction_date\"])\n",
    "\n",
    "Result_filter_category_income = Sort_Order.groupby(\"merchant_name\").agg(\n",
    "    First_Trasection = (\"transaction_id\",\"first\"),Last_Trasection = (\"transaction_id\",\"last\") \n",
    ")\n",
    "print(Result_filter_category_income)"
   ]
  },
  {
   "cell_type": "code",
   "execution_count": 27,
   "metadata": {},
   "outputs": [
    {
     "name": "stdout",
     "output_type": "stream",
     "text": [
      "  payment_method      amount\n",
      "0  Bank Transfer  435.668571\n",
      "1           Cash  507.691429\n",
      "2    Credit Card  482.689231\n",
      "3     Debit Card  397.405714\n",
      "4         PayPal  604.574286\n"
     ]
    }
   ],
   "source": [
    "# find the average transaction amount for each payment method in the 'Expense' category, but only\n",
    "# for transactions that occurred in the second quarter (April, May, June) of 2024. Display the payment method and the average transaction amount.\n",
    "filter_by_category_Expense = df[\n",
    "    (df[\"category\"] == \"Expense\") & \n",
    "    (df[\"transaction_date\"].dt.month).between(4,6) &\n",
    "     (df[\"transaction_date\"].dt.year == 2024)\n",
    "    ]\n",
    "groupby_filter_by_category_Expense = filter_by_category_Expense.groupby(\"payment_method\")[\"amount\"].mean().reset_index()\n",
    "print(groupby_filter_by_category_Expense)"
   ]
  },
  {
   "cell_type": "code",
   "execution_count": 28,
   "metadata": {},
   "outputs": [
    {
     "name": "stdout",
     "output_type": "stream",
     "text": [
      "        Total_Trasection  Total_Amount\n",
      "region                                \n",
      "South                 70      36611.68\n",
      "East                  69      35219.32\n",
      "North                 55      29845.30\n",
      "West                  61      24593.75\n"
     ]
    }
   ],
   "source": [
    "# determine the total number of transactions and the total amount for each region in the 'Income'  category, but only for transactions where the status is\n",
    "# either 'Completed' or 'Pending'. Display the region, total number of transactions, and total amount, sorted by the total amount in descending order\n",
    "filter_by_category_Status = df[\n",
    "    (df[\"category\"] == \"Income\") &\n",
    "    (df[\"status\"].isin([\"Completed\",\"Pending\"]))\n",
    "    ]\n",
    "groupby_filter_by_category_Status = filter_by_category_Status.groupby(\"region\").agg(\n",
    "    Total_Trasection = (\"transaction_id\",\"count\"),\n",
    "    Total_Amount = (\"amount\",\"sum\")\n",
    ").sort_values(by = \"Total_Amount\", ascending=False)\n",
    "print(groupby_filter_by_category_Status)\n"
   ]
  },
  {
   "cell_type": "code",
   "execution_count": 29,
   "metadata": {},
   "outputs": [
    {
     "name": "stdout",
     "output_type": "stream",
     "text": [
      "   Month    amount\n",
      "0     11  13651.53\n"
     ]
    }
   ],
   "source": [
    "# find the month with the highest total transaction amount for the 'Expense' category in 2024.\n",
    "# Display the month name and the total amount.\n",
    "filter_by_category_Expense = df[\n",
    "    (df[\"category\"] == \"Expense\") &\n",
    "    (df[\"transaction_date\"].dt.year == 2024)\n",
    "    ].copy()\n",
    "filter_by_category_Expense[\"Month\"]= (df[\"transaction_date\"].dt.month)\n",
    "groupby_filter_by_category_Expense = filter_by_category_Expense.groupby(\"Month\")[\"amount\"].sum().sort_values(ascending=False).reset_index().head(1)\n",
    "print(groupby_filter_by_category_Expense)"
   ]
  },
  {
   "cell_type": "code",
   "execution_count": 30,
   "metadata": {},
   "outputs": [
    {
     "name": "stdout",
     "output_type": "stream",
     "text": [
      "    transaction_date  customer_name  amount  Comulative_Total\n",
      "260       2024-01-03      Bob Smith   50.15             50.15\n",
      "254       2024-01-03    George King  733.66            783.81\n",
      "331       2024-01-05  Charlie Brown  987.68           1771.49\n",
      "351       2024-01-05      Bob Smith  594.23           2365.72\n",
      "449       2024-01-06    Fiona Green  907.91           3273.63\n",
      "..               ...            ...     ...               ...\n",
      "121       2024-12-27  Hannah Taylor  199.80         124883.90\n",
      "62        2024-12-28    Ethan Black  115.53         124999.43\n",
      "269       2024-12-30    Ethan Black  451.85         125451.28\n",
      "340       2024-12-30    Ethan Black  214.23         125665.51\n",
      "391       2024-12-30    Jessica Lee  604.54         126270.05\n",
      "\n",
      "[255 rows x 4 columns]\n"
     ]
    }
   ],
   "source": [
    "# calculate the cumulative transaction amount for the 'Income' category, sorted by transaction\n",
    "# date. Display the transaction date, customer name, transaction amount, and the cumulative total amount\n",
    "filter_income_category = df[df[\"category\"]==\"Income\"]\n",
    "sort_filter_income_category = filter_income_category.sort_values(by = \"transaction_date\")\n",
    "sort_filter_income_category[\"Comulative_Total\"] = sort_filter_income_category[\"amount\"].cumsum()\n",
    "sort_filter_income_category_result =sort_filter_income_category[[\"transaction_date\",\"customer_name\",\"amount\",\"Comulative_Total\"]]\n",
    "print(sort_filter_income_category_result)"
   ]
  },
  {
   "cell_type": "code",
   "execution_count": 31,
   "metadata": {},
   "outputs": [
    {
     "name": "stdout",
     "output_type": "stream",
     "text": [
      "  Payment_Method  Total_Amount  Percentage_Contribution\n",
      "0  Bank Transfer      33728.35                25.454402\n",
      "1           Cash      24195.73                18.260242\n",
      "2    Credit Card      26043.36                19.654627\n",
      "3     Debit Card      27246.72                20.562789\n",
      "4         PayPal      21290.82                16.067939\n"
     ]
    }
   ],
   "source": [
    "# find the percentage contribution of each payment method to the total transaction amount in the\n",
    "# 'Expense' category. Display the payment method, total amount, and percentage contribution\n",
    "filter_expense = df[df[\"category\"] == \"Expense\"]\n",
    "grouped_expense = filter_expense.groupby(\"payment_method\")[\"amount\"].sum().reset_index()\n",
    "total_amount = grouped_expense[\"amount\"].sum()\n",
    "grouped_expense[\"Percentage_Contribution\"] = (grouped_expense[\"amount\"] / total_amount) * 100\n",
    "grouped_expense.columns = [\"Payment_Method\", \"Total_Amount\", \"Percentage_Contribution\"]\n",
    "print(grouped_expense)"
   ]
  },
  {
   "cell_type": "code",
   "execution_count": 32,
   "metadata": {},
   "outputs": [
    {
     "name": "stdout",
     "output_type": "stream",
     "text": [
      "  region  Average_Income\n",
      "1  North      542.641818\n",
      "2  South      523.024000\n",
      "0   East      510.424928\n"
     ]
    }
   ],
   "source": [
    "# find the top 3 regions with the highest average income per transaction. Display the region and\n",
    "# the average income amount, sorted in descending order\n",
    "# Filter the data for 'Income' category\n",
    "filter_income = df[df[\"category\"] == \"Income\"]\n",
    "\n",
    "# Group by region and calculate the average transaction amount\n",
    "average_income = (\n",
    "    filter_income\n",
    "    .groupby(\"region\", as_index=False)\n",
    "    .agg(Average_Income=(\"amount\", \"mean\"))\n",
    "    .sort_values(by=\"Average_Income\", ascending=False)\n",
    "    .head(3)\n",
    ")\n",
    "print(average_income)\n"
   ]
  },
  {
   "cell_type": "code",
   "execution_count": 33,
   "metadata": {},
   "outputs": [
    {
     "name": "stdout",
     "output_type": "stream",
     "text": [
      "   Months   amount\n",
      "3       4  5732.07\n"
     ]
    }
   ],
   "source": [
    "# determine the month with the lowest total expense. Display the month name and the total\n",
    "# expense amount, sorted in ascending order by total expense\n",
    "filtered_Expense_Category = df[\n",
    "    (df[\"category\"] == \"Expense\")].copy() \n",
    "\n",
    "filtered_Expense_Category[\"Months\"] = filtered_Expense_Category[\"transaction_date\"].dt.month\n",
    "filtered_Expense_Category_groupby = filtered_Expense_Category.groupby(\"Months\")[\"amount\"].sum().reset_index().sort_values(by = \"amount\", ascending=True).head(1)\n",
    "print(filtered_Expense_Category_groupby)"
   ]
  },
  {
   "cell_type": "code",
   "execution_count": 34,
   "metadata": {},
   "outputs": [
    {
     "name": "stdout",
     "output_type": "stream",
     "text": [
      "                         Total_Transaction  Total_Amount  \\\n",
      "category payment_method                                    \n",
      "Expense  Bank Transfer                  61      33728.35   \n",
      "         Cash                           46      24195.73   \n",
      "         Credit Card                    46      26043.36   \n",
      "         Debit Card                     52      27246.72   \n",
      "         PayPal                         40      21290.82   \n",
      "Income   Bank Transfer                  46      26415.49   \n",
      "         Cash                           42      19523.15   \n",
      "         Credit Card                    58      26533.96   \n",
      "         Debit Card                     51      24848.68   \n",
      "         PayPal                         58      28948.77   \n",
      "\n",
      "                         Avg_Trnsaction_Amount  \n",
      "category payment_method                         \n",
      "Expense  Bank Transfer              552.923770  \n",
      "         Cash                       525.994130  \n",
      "         Credit Card                566.160000  \n",
      "         Debit Card                 523.975385  \n",
      "         PayPal                     532.270500  \n",
      "Income   Bank Transfer              574.249783  \n",
      "         Cash                       464.836905  \n",
      "         Credit Card                457.482069  \n",
      "         Debit Card                 487.229020  \n",
      "         PayPal                     499.116724  \n"
     ]
    }
   ],
   "source": [
    "# calculate the total number of transactions, the total amount, and the average\n",
    "# transaction amount for each payment method and category. Sort the results by category and then by payment method.\n",
    "\n",
    "groupby_Result = df.groupby([\"category\",\"payment_method\"]).agg(\n",
    "    Total_Transaction = (\"transaction_id\",\"count\"),\n",
    "    Total_Amount = (\"amount\",\"sum\"),\n",
    "    Avg_Trnsaction_Amount = (\"amount\",\"mean\")\n",
    ")\n",
    "sort_Result = groupby_Result.sort_values(by = [\"category\",\"payment_method\"])\n",
    "print(sort_Result)"
   ]
  },
  {
   "cell_type": "code",
   "execution_count": 35,
   "metadata": {},
   "outputs": [
    {
     "name": "stdout",
     "output_type": "stream",
     "text": [
      "  region  Total_Income  Total_Expense  Net_Balance\n",
      "2  South      36611.68       31247.90      5363.78\n",
      "0   East      35219.32       33071.90      2147.42\n",
      "1  North      29845.30       28104.53      1740.77\n",
      "3   West      24593.75       40080.65    -15486.90\n"
     ]
    }
   ],
   "source": [
    "# calculate the total income and total expense for each region. Display the region, total income,\n",
    "# total expense, and the net balance (total income - total expense). Sort the results by the  net balance in descending order\n",
    "\n",
    "# Filter income and expense data\n",
    "income_data = df[df[\"category\"] == \"Income\"]\n",
    "expense_data = df[df[\"category\"] == \"Expense\"]\n",
    "\n",
    "# Group by region and calculate total income\n",
    "income_by_region = income_data.groupby(\"region\")[\"amount\"].sum().reset_index()\n",
    "income_by_region = income_by_region.rename(columns={\"amount\": \"Total_Income\"})  # Assign back\n",
    "\n",
    "# Group by region and calculate total expense\n",
    "expense_by_region = expense_data.groupby(\"region\")[\"amount\"].sum().reset_index()\n",
    "expense_by_region = expense_by_region.rename(columns={\"amount\": \"Total_Expense\"})  # Assign back\n",
    "\n",
    "# Merge the two results on 'region'\n",
    "merged_data = pd.merge(income_by_region, expense_by_region, on=\"region\", how=\"outer\").fillna(0)\n",
    "\n",
    "# Calculate the net balance (Total Income - Total Expense)\n",
    "merged_data[\"Net_Balance\"] = merged_data[\"Total_Income\"] - merged_data[\"Total_Expense\"]\n",
    "\n",
    "# Sort by net balance in descending order\n",
    "sorted_result = merged_data.sort_values(by=\"Net_Balance\", ascending=False)\n",
    "\n",
    "# Display the result\n",
    "print(sorted_result)\n",
    "\n"
   ]
  },
  {
   "cell_type": "code",
   "execution_count": 36,
   "metadata": {},
   "outputs": [
    {
     "name": "stdout",
     "output_type": "stream",
     "text": [
      "               Total_Income  Total_Transaction\n",
      "merchant_name                                 \n",
      "Merchant_32         8601.25                 15\n",
      "Merchant_39         8129.96                 11\n",
      "Merchant_4          8029.98                 15\n"
     ]
    }
   ],
   "source": [
    "# display the top 3 merchants in terms of total income, along with the corresponding total\n",
    "# transaction count and total income amount. Sort the results by total income in descending order\n",
    "df_merchant_groupby = df.groupby(\"merchant_name\").agg(\n",
    "    Total_Income = (\"amount\",\"sum\"),\n",
    "    Total_Transaction = (\"transaction_id\",\"count\")\n",
    ").sort_values(by = \"Total_Income\", ascending=False).head(3)\n",
    "print(df_merchant_groupby)"
   ]
  },
  {
   "cell_type": "code",
   "execution_count": 37,
   "metadata": {},
   "outputs": [
    {
     "name": "stdout",
     "output_type": "stream",
     "text": [
      "  region  Total_Income  Percentage_Contribution\n",
      "2  South      36611.68                28.994746\n",
      "0   East      35219.32                27.892061\n",
      "1  North      29845.30                23.636088\n",
      "3   West      24593.75                19.477105\n"
     ]
    }
   ],
   "source": [
    "# find the percentage contribution of each region to the total income. Sort the results in descending\n",
    "# order of their percentage contribution\n",
    "\n",
    "income_data = df[df[\"category\"] == \"Income\"]\n",
    "\n",
    "income_by_region = income_data.groupby(\"region\")[\"amount\"].sum().reset_index()\n",
    "income_by_region.rename(columns={\"amount\": \"Total_Income\"}, inplace=True)\n",
    "total_income = income_by_region[\"Total_Income\"].sum()\n",
    "income_by_region[\"Percentage_Contribution\"] = (income_by_region[\"Total_Income\"] / total_income) * 100\n",
    "sorted_income = income_by_region.sort_values(by=\"Percentage_Contribution\", ascending=False)\n",
    "print(sorted_income)\n"
   ]
  },
  {
   "cell_type": "code",
   "execution_count": 38,
   "metadata": {},
   "outputs": [
    {
     "name": "stdout",
     "output_type": "stream",
     "text": [
      "        month category  Total_Amount\n",
      "8     January  Expense      12078.04\n",
      "6    February  Expense      12696.82\n",
      "14      March  Expense      11710.51\n",
      "0       April  Expense       5732.07\n",
      "16        May  Expense      12949.09\n",
      "12       June  Expense       7814.70\n",
      "10       July  Expense      11301.86\n",
      "2      August  Expense      13164.80\n",
      "22  September  Expense      12240.89\n",
      "20    October  Expense       8774.74\n",
      "18   November  Expense      13651.53\n",
      "4    December  Expense      10389.93\n",
      "9     January   Income      14774.74\n",
      "7    February   Income       9637.62\n",
      "15      March   Income      16691.56\n",
      "1       April   Income       7266.69\n",
      "17        May   Income       7836.04\n",
      "13       June   Income       8043.69\n",
      "11       July   Income      10376.45\n",
      "3      August   Income      11833.55\n",
      "23  September   Income       8809.51\n",
      "21    October   Income      10731.39\n",
      "19   November   Income      11708.98\n",
      "5    December   Income       8559.83\n"
     ]
    }
   ],
   "source": [
    "# display the monthly trend of the total amount (both income and expense). Include the month name,\n",
    "# category, and the total amount. Sort the results first by category and then by month in ascending order\n",
    "\n",
    "df[\"month\"] = df[\"transaction_date\"].dt.strftime(\"%B\")  # Extract the month name\n",
    "\n",
    "# Define a custom order for months to ensure proper sorting\n",
    "month_order = [\n",
    "    \"January\", \"February\", \"March\", \"April\", \"May\", \"June\", \n",
    "    \"July\", \"August\", \"September\", \"October\", \"November\", \"December\"\n",
    "]\n",
    "\n",
    "# Group by month and category, and calculate the total amount\n",
    "monthly_trend = (\n",
    "    df.groupby([\"month\", \"category\"])[\"amount\"]\n",
    "    .sum()\n",
    "    .reset_index()\n",
    "    .rename(columns={\"amount\": \"Total_Amount\"})\n",
    ")\n",
    "\n",
    "# Add a month number column for sorting\n",
    "monthly_trend[\"month_number\"] = monthly_trend[\"month\"].apply(lambda x: month_order.index(x) + 1)\n",
    "\n",
    "# Sort the results by category and then by month number\n",
    "sorted_trend = monthly_trend.sort_values(by=[\"category\", \"month_number\"]).drop(columns=\"month_number\")\n",
    "\n",
    "print(sorted_trend)\n"
   ]
  },
  {
   "cell_type": "code",
   "execution_count": 39,
   "metadata": {},
   "outputs": [
    {
     "name": "stdout",
     "output_type": "stream",
     "text": [
      "   region payment_method  Avg_Amount\n",
      "0    East  Bank Transfer  719.258182\n",
      "5   North  Bank Transfer  422.180000\n",
      "10  South  Bank Transfer  542.981429\n",
      "15   West  Bank Transfer  572.994500\n",
      "1    East           Cash  545.532353\n",
      "6   North           Cash  600.167500\n",
      "11  South           Cash  477.110000\n",
      "16   West           Cash  488.335556\n",
      "2    East    Credit Card  458.745000\n",
      "17   West    Credit Card  646.342667\n",
      "7   North    Credit Card  609.343333\n",
      "12  South    Credit Card  487.830909\n",
      "3    East     Debit Card  527.505625\n",
      "8   North     Debit Card  492.387273\n",
      "18   West     Debit Card  578.535000\n",
      "13  South     Debit Card  495.996154\n",
      "9   North         PayPal  545.704286\n",
      "4    East         PayPal  377.596000\n",
      "14  South         PayPal  610.675000\n",
      "19   West         PayPal  583.706154\n"
     ]
    }
   ],
   "source": [
    "# find the average amount for each payment method in each region, but only for transactions in the\n",
    "# 'Expense' category. The result should be ordered by payment method in ascending order\n",
    "filterregion = df[df[\"category\"]== \"Expense\"]\n",
    "filterregion_groupby = filterregion.groupby([\"region\",\"payment_method\"])[\"amount\"].mean().reset_index().rename(\n",
    "    columns={\"amount\": \"Avg_Amount\"}).sort_values(\n",
    "        by =\"payment_method\", ascending=True)\n",
    "\n",
    "print(filterregion_groupby)"
   ]
  },
  {
   "cell_type": "code",
   "execution_count": 40,
   "metadata": {},
   "outputs": [
    {
     "name": "stdout",
     "output_type": "stream",
     "text": [
      "   merchant_name  Total_Income\n",
      "19   Merchant_27       7355.84\n",
      "15   Merchant_23       4949.61\n",
      "33    Merchant_4       4063.33\n",
      "20   Merchant_28       3922.13\n",
      "27   Merchant_34       3810.27\n",
      "44    Merchant_5       3790.04\n",
      "29   Merchant_36       3704.51\n",
      "39   Merchant_45       3597.24\n",
      "48    Merchant_8       3423.95\n",
      "42   Merchant_48       3340.30\n",
      "41   Merchant_47       3331.28\n",
      "9    Merchant_18       3297.55\n",
      "38   Merchant_44       3286.61\n",
      "22    Merchant_3       3227.72\n",
      "2    Merchant_11       3206.29\n",
      "34   Merchant_40       3177.82\n",
      "36   Merchant_42       3142.30\n",
      "32   Merchant_39       2993.18\n",
      "13   Merchant_21       2945.17\n",
      "49    Merchant_9       2939.47\n",
      "47    Merchant_7       2892.25\n",
      "7    Merchant_16       2744.66\n",
      "16   Merchant_24       2697.08\n",
      "3    Merchant_12       2626.03\n",
      "30   Merchant_37       2608.50\n",
      "35   Merchant_41       2518.48\n",
      "18   Merchant_26       2393.15\n",
      "17   Merchant_25       2315.69\n",
      "1    Merchant_10       2290.14\n",
      "4    Merchant_13       2212.65\n",
      "43   Merchant_49       2168.02\n",
      "46    Merchant_6       1990.59\n",
      "8    Merchant_17       1953.42\n",
      "26   Merchant_33       1793.34\n",
      "45   Merchant_50       1717.30\n",
      "37   Merchant_43       1686.86\n",
      "40   Merchant_46       1609.83\n",
      "28   Merchant_35       1576.69\n",
      "25   Merchant_32       1425.53\n",
      "23   Merchant_30       1393.36\n",
      "5    Merchant_14       1371.62\n",
      "24   Merchant_31       1270.56\n",
      "21   Merchant_29       1247.91\n",
      "31   Merchant_38       1247.14\n",
      "6    Merchant_15       1134.77\n",
      "14   Merchant_22       1058.46\n",
      "11    Merchant_2       1009.26\n"
     ]
    }
   ],
   "source": [
    "# find the total amount of 'Income' transactions for each merchant name. Include only\n",
    "# merchants with a total amount greater than 1,000, and order the result by the total amount in descending order\n",
    "income_data = df[df[\"category\"] == \"Income\"]\n",
    "\n",
    "# Group by merchant name and calculate the total amount\n",
    "total_income_by_merchant = (\n",
    "    income_data.groupby(\"merchant_name\")[\"amount\"]\n",
    "    .sum()\n",
    "    .reset_index()\n",
    "    .rename(columns={\"amount\": \"Total_Income\"})\n",
    ")\n",
    "\n",
    "filtered_merchants = total_income_by_merchant[total_income_by_merchant[\"Total_Income\"] > 1000]\n",
    "sorted_merchants = filtered_merchants.sort_values(by=\"Total_Income\", ascending=False)\n",
    "\n",
    "print(sorted_merchants)\n"
   ]
  },
  {
   "cell_type": "code",
   "execution_count": 41,
   "metadata": {},
   "outputs": [
    {
     "name": "stdout",
     "output_type": "stream",
     "text": [
      "           Total_Transaction  Total_Amount\n",
      "status                                    \n",
      "Completed                121      63204.59\n",
      "Pending                  124      69300.39\n"
     ]
    }
   ],
   "source": [
    "# count the number of transactions and sum the amounts for each status ('Completed' and 'Pending')\n",
    "# within the 'Expense' category, and order the result by status in ascending order.\n",
    "filterexpense_category = df[df[\"category\"]== \"Expense\"]\n",
    "groupdata = filterexpense_category.groupby(\"status\").agg(\n",
    "    Total_Transaction = (\"transaction_id\",\"count\"),\n",
    "    Total_Amount = (\"amount\",\"sum\")\n",
    ").sort_values(by = \"status\", ascending=True)\n",
    "print(groupdata)\n"
   ]
  },
  {
   "cell_type": "code",
   "execution_count": 42,
   "metadata": {},
   "outputs": [
    {
     "name": "stdout",
     "output_type": "stream",
     "text": [
      "                Total_Amount  Avg_amount\n",
      "payment_method                          \n",
      "Bank Transfer       26415.49  574.249783\n"
     ]
    }
   ],
   "source": [
    "# find the total amount and average amount for each payment method in the 'Income' category. Only\n",
    "# include rows where the average amount is greater than 500, and order the result by payment method in ascending order\n",
    "income_ctegory_filter = df[df[\"category\"]== \"Income\"]\n",
    "groupby_paymentmethod = income_ctegory_filter.groupby(\"payment_method\").agg(\n",
    "    Total_Amount = (\"amount\",\"sum\"),\n",
    "    Avg_amount = (\"amount\",\"mean\")\n",
    ")\n",
    "greaterthan_500 = groupby_paymentmethod[groupby_paymentmethod[\"Avg_amount\"]> 500]\n",
    "greaterthan_500 = greaterthan_500.sort_index()\n",
    "print(greaterthan_500)"
   ]
  },
  {
   "cell_type": "code",
   "execution_count": 43,
   "metadata": {},
   "outputs": [
    {
     "name": "stdout",
     "output_type": "stream",
     "text": [
      "        Total_Amount  avg_Amount\n",
      "region                          \n",
      "South       36611.68  523.024000\n",
      "East        35219.32  510.424928\n",
      "North       29845.30  542.641818\n"
     ]
    }
   ],
   "source": [
    "# find the top 3 regions with the highest total amount of 'Income' transactions in 2024, but only\n",
    "# include those regions where the average transaction amount for that region is greater than 300. Order the results by\n",
    "# total amount in descending order\n",
    "filet_category_for_regions = df[\n",
    "    (df[\"category\"]== \"Income\") &\n",
    "    (df[\"transaction_date\"].dt.year == 2024)\n",
    "    ]\n",
    "group_by_regions = filet_category_for_regions.groupby(\"region\").agg(\n",
    "    Total_Amount = (\"amount\",\"sum\"),\n",
    "    avg_Amount = (\"amount\",\"mean\")\n",
    ").sort_index()\n",
    "greaterthan300 = group_by_regions[group_by_regions[\"avg_Amount\"]> 300]\n",
    "order_by_Total_amount = greaterthan300.sort_values(by = \"Total_Amount\", ascending=False).head(3)\n",
    "print(order_by_Total_amount)"
   ]
  },
  {
   "cell_type": "code",
   "execution_count": 44,
   "metadata": {},
   "outputs": [
    {
     "name": "stdout",
     "output_type": "stream",
     "text": [
      "               Max_Amount  Min_Amount  Amount_Difference\n",
      "merchant_name                                           \n",
      "Merchant_8         983.23       50.15             933.08\n",
      "Merchant_18        995.38       71.71             923.67\n",
      "Merchant_40        957.34       54.38             902.96\n",
      "Merchant_21        942.91       71.68             871.23\n",
      "Merchant_23        932.45       69.30             863.15\n",
      "Merchant_28        977.63      124.53             853.10\n",
      "Merchant_6         894.90       66.30             828.60\n",
      "Merchant_27        987.68      163.69             823.99\n",
      "Merchant_1         883.41       75.10             808.31\n",
      "Merchant_34        965.90      164.49             801.41\n",
      "Merchant_44        926.48      141.14             785.34\n",
      "Merchant_43        850.38       78.96             771.42\n",
      "Merchant_4         907.91      142.08             765.83\n",
      "Merchant_14        818.29       61.37             756.92\n",
      "Merchant_16        903.28      147.66             755.62\n",
      "Merchant_7         952.32      199.80             752.52\n",
      "Merchant_42        911.24      171.90             739.34\n",
      "Merchant_48        810.90       76.95             733.95\n",
      "Merchant_5         829.25       95.86             733.39\n",
      "Merchant_13        925.91      210.11             715.80\n",
      "Merchant_24        782.00       66.62             715.38\n",
      "Merchant_49        867.48      161.73             705.75\n",
      "Merchant_12        917.72      234.50             683.22\n",
      "Merchant_2         783.92      109.81             674.11\n",
      "Merchant_17        750.64       95.97             654.67\n",
      "Merchant_33        817.88      164.57             653.31\n",
      "Merchant_38        927.22      319.92             607.30\n",
      "Merchant_10        691.69       87.81             603.88\n",
      "Merchant_50        674.23      106.01             568.22\n",
      "Merchant_46        702.91      139.80             563.11\n",
      "Merchant_3         834.29      292.96             541.33\n",
      "Merchant_11        985.61      449.75             535.86\n",
      "Merchant_37        608.60      108.61             499.99\n",
      "Merchant_26        983.48      506.78             476.70\n",
      "Merchant_35        607.27      137.56             469.71\n",
      "Merchant_25        957.81      498.45             459.36\n",
      "Merchant_22        598.48      152.67             445.81\n",
      "Merchant_41        871.97      426.82             445.15\n",
      "Merchant_29        582.90      166.72             416.18\n",
      "Merchant_47        868.04      456.07             411.97\n",
      "Merchant_39        957.27      588.94             368.33\n",
      "Merchant_15        416.41       92.73             323.68\n",
      "Merchant_32        670.96      347.75             323.21\n",
      "Merchant_36        898.78      585.99             312.79\n",
      "Merchant_45        722.64      427.69             294.95\n",
      "Merchant_31        782.56      488.00             294.56\n",
      "Merchant_9         724.22      455.68             268.54\n",
      "Merchant_30        801.43      591.93             209.50\n",
      "Merchant_19        301.58      147.32             154.26\n",
      "Merchant_20        185.93      185.93               0.00\n"
     ]
    }
   ],
   "source": [
    "# find the difference between the highest and lowest transaction amount for each merchant in the\n",
    "# 'Income' category. Return the merchant_name, the difference (as Amount_Difference), and order by the largest difference first.\n",
    "income_category = df[df[\"category\"] == \"Income\"]\n",
    "merchant_diff = income_category.groupby(\"merchant_name\").agg(\n",
    "    Max_Amount=(\"amount\", \"max\"),\n",
    "    Min_Amount=(\"amount\", \"min\")\n",
    ")\n",
    "\n",
    "merchant_diff[\"Amount_Difference\"] = merchant_diff[\"Max_Amount\"] - merchant_diff[\"Min_Amount\"]\n",
    "\n",
    "sorted_diff = merchant_diff.sort_values(by=\"Amount_Difference\", ascending=False)\n",
    "print(sorted_diff)\n"
   ]
  },
  {
   "cell_type": "code",
   "execution_count": 45,
   "metadata": {},
   "outputs": [
    {
     "name": "stdout",
     "output_type": "stream",
     "text": [
      "    customer_name  customer_id   amount\n",
      "74    Jessica Lee          102  1810.31\n",
      "43    Fiona Green          111  1666.70\n",
      "36    Ethan Black          112  1604.79\n",
      "20  Charlie Brown          118  1551.89\n",
      "45    Fiona Green          115  1399.91\n"
     ]
    }
   ],
   "source": [
    "# find the top 5 customers who spent the most in total in the 'Income' category, but only consider\n",
    "# transactions where the payment method is 'Credit Card' or 'Debit Card'. You need to return the customer name, customer ID, and total amount spent\n",
    "income_category_filter = df[\n",
    "    (df[\"category\"] == \"Income\") & \n",
    "    (df[\"payment_method\"].isin([\"Credit Card\",\"Debit Card\"]))\n",
    "    ]\n",
    "income_category_filter_groupby = income_category_filter.groupby(    \n",
    "    [\"customer_name\",\"customer_id\"])[\"amount\"].sum().reset_index().sort_values(\n",
    "        by = \"amount\",ascending=False).head(5)\n",
    "print(income_category_filter_groupby)"
   ]
  },
  {
   "cell_type": "code",
   "execution_count": 46,
   "metadata": {},
   "outputs": [
    {
     "name": "stdout",
     "output_type": "stream",
     "text": [
      "     transaction_id transaction_date  amount  cumulative_amount\n",
      "330             331       2024-01-02  881.41             881.41\n",
      "254             255       2024-01-03  733.66            1615.07\n",
      "260             261       2024-01-03   50.15            1665.22\n",
      "228             229       2024-01-04  231.88            1897.10\n",
      "319             320       2024-01-05  967.23            2864.33\n",
      "..              ...              ...     ...                ...\n",
      "62               63       2024-12-28  115.53          257284.21\n",
      "340             341       2024-12-30  214.23          257498.44\n",
      "269             270       2024-12-30  451.85          257950.29\n",
      "24               25       2024-12-30  220.20          258170.49\n",
      "391             392       2024-12-30  604.54          258775.03\n",
      "\n",
      "[500 rows x 4 columns]\n"
     ]
    }
   ],
   "source": [
    "# calculate the cumulative sum of amount for each transaction, ordered by transaction_date? For this,\n",
    "# assume the dataset has columns: transaction_id, transaction_date, and amount\n",
    "\n",
    "df_sorted = df.sort_values(by=\"transaction_date\")  \n",
    "df_sorted[\"cumulative_amount\"] = df_sorted[\"amount\"].cumsum()  \n",
    "\n",
    "print(df_sorted[[\"transaction_id\", \"transaction_date\", \"amount\", \"cumulative_amount\"]])\n",
    "\n"
   ]
  },
  {
   "cell_type": "code",
   "execution_count": 47,
   "metadata": {},
   "outputs": [
    {
     "name": "stdout",
     "output_type": "stream",
     "text": [
      "     transaction_id region transaction_date  amount  running_total\n",
      "228             229   East       2024-01-04  231.88         231.88\n",
      "125             126   East       2024-01-06  560.62         792.50\n",
      "426             427   East       2024-01-07  764.72        1557.22\n",
      "54               55   East       2024-01-16  152.67        1709.89\n",
      "476             477   East       2024-01-17  595.75        2305.64\n",
      "..              ...    ...              ...     ...            ...\n",
      "410             411   West       2024-12-20  342.86       63283.55\n",
      "262             263   West       2024-12-23  171.90       63455.45\n",
      "457             458   West       2024-12-23  319.92       63775.37\n",
      "286             287   West       2024-12-26  684.80       64460.17\n",
      "340             341   West       2024-12-30  214.23       64674.40\n",
      "\n",
      "[500 rows x 5 columns]\n"
     ]
    }
   ],
   "source": [
    "# calculate the running total of the amount for each region, considering each region\n",
    "# should have its own cumulative total starting from the first transaction?\n",
    "\n",
    "df_sorted = df.sort_values(by=[\"region\", \"transaction_date\"])  \n",
    "df_sorted[\"running_total\"] = df_sorted.groupby(\"region\")[\"amount\"].cumsum()\n",
    "\n",
    "print(df_sorted[[\"transaction_id\", \"region\", \"transaction_date\", \"amount\", \"running_total\"]])\n"
   ]
  },
  {
   "cell_type": "code",
   "execution_count": 48,
   "metadata": {},
   "outputs": [
    {
     "name": "stdout",
     "output_type": "stream",
     "text": [
      "    region merchant_name   amount\n",
      "2     East   Merchant_11  3206.29\n",
      "6     East   Merchant_16  2408.38\n",
      "8     East   Merchant_18  2220.29\n",
      "41   North   Merchant_23  1965.89\n",
      "42   North   Merchant_24  1800.70\n",
      "51   North   Merchant_36  1638.26\n",
      "79   South   Merchant_27  3926.04\n",
      "80   South   Merchant_28  2227.31\n",
      "92   South   Merchant_44  2121.14\n",
      "141   West    Merchant_8  1757.70\n",
      "115   West   Merchant_23  1439.51\n",
      "118   West   Merchant_27  1270.48\n"
     ]
    }
   ],
   "source": [
    "# find the top 3 merchants based on the highest total amount in a specific category (e.g., 'Income') within each region\n",
    "filtered_data = df[df[\"category\"] == \"Income\"]\n",
    "grouped_data = filtered_data.groupby(\n",
    "    [\"region\", \"merchant_name\"])[\"amount\"].sum().reset_index()\n",
    "sorted_data = grouped_data.sort_values(\n",
    "    by=[\"region\", \"amount\"], ascending=[True, False])\n",
    "top_3_merchants_per_region = sorted_data.groupby(\"region\").head(3)\n",
    "print(top_3_merchants_per_region)\n"
   ]
  },
  {
   "cell_type": "code",
   "execution_count": 52,
   "metadata": {},
   "outputs": [
    {
     "name": "stdout",
     "output_type": "stream",
     "text": [
      "    Month  Total_Transactions  Total_Income  Avg_Transaction_Amount\n",
      "0       1                  26      14774.74              568.259231\n",
      "1       2                  24       9637.62              401.567500\n",
      "2       3                  28      16691.56              596.127143\n",
      "3       4                  16       7266.69              454.168125\n",
      "4       5                  15       7836.04              522.402667\n",
      "5       6                  14       8043.69              574.549286\n",
      "6       7                  22      10376.45              471.656818\n",
      "7       8                  23      11833.55              514.502174\n",
      "8       9                  19       8809.51              463.658421\n",
      "9      10                  21      10731.39              511.018571\n",
      "10     11                  25      11708.98              468.359200\n",
      "11     12                  22       8559.83              389.083182\n"
     ]
    }
   ],
   "source": [
    "# find the total number of transactions, total income, and average transaction amount for each month in 2024, sorted by month\n",
    "# Filter the data for the \"Income\" category\n",
    "income_data = df[(df[\"category\"] == \"Income\") & (df[\"transaction_date\"].dt.year == 2024)]\n",
    "\n",
    "# Group by month and calculate total transactions, total income, and average transaction amount\n",
    "monthly_income_stats = income_data.groupby(income_data[\"transaction_date\"].dt.month).agg(\n",
    "    Total_Transactions=(\"transaction_id\", \"count\"),\n",
    "    Total_Income=(\"amount\", \"sum\"),\n",
    "    Avg_Transaction_Amount=(\"amount\", \"mean\")\n",
    ").reset_index()\n",
    "\n",
    "# Rename the month column for better readability\n",
    "monthly_income_stats.rename(columns={\"transaction_date\": \"Month\"}, inplace=True)\n",
    "\n",
    "# Sort the results by month in ascending order\n",
    "monthly_income_stats.sort_values(by=\"Month\", ascending=True, inplace=True)\n",
    "\n",
    "print(monthly_income_stats)\n",
    "\n"
   ]
  },
  {
   "cell_type": "code",
   "execution_count": 62,
   "metadata": {},
   "outputs": [
    {
     "name": "stdout",
     "output_type": "stream",
     "text": [
      "category region   Expense    Income  Difference\n",
      "2         South  31247.90  36611.68     5363.78\n",
      "0          East  33071.90  35219.32     2147.42\n",
      "1         North  28104.53  29845.30     1740.77\n",
      "3          West  40080.65  24593.75   -15486.90\n"
     ]
    }
   ],
   "source": [
    "# find the total income and total expense for each region. Display the region, the total amount\n",
    "# for the Income category, the total amount for the Expense category, and the difference between income and expense.\n",
    "# Sort the results by the difference in descending order\n",
    "\n",
    "grouped_data = df.groupby([\"region\", \"category\"]).agg(\n",
    "    Total_Amount=(\"amount\", \"sum\")\n",
    ").reset_index()\n",
    "pivoted_data = grouped_data.pivot(index=\"region\", columns=\"category\", values=\"Total_Amount\").fillna(0)\n",
    "pivoted_data[\"Difference\"] = pivoted_data[\"Income\"] - pivoted_data[\"Expense\"]\n",
    "\n",
    "result = pivoted_data.reset_index()\n",
    "\n",
    "result_sorted = result.sort_values(by=\"Difference\", ascending=False)\n",
    "\n",
    "print(result_sorted)\n"
   ]
  },
  {
   "cell_type": "code",
   "execution_count": 63,
   "metadata": {},
   "outputs": [
    {
     "name": "stdout",
     "output_type": "stream",
     "text": [
      "  month_name  Total_Transaction_Amount  Percentage_Contribution\n",
      "7      March                  28402.07                10.975584\n",
      "4    January                  26852.78                10.376882\n",
      "9   November                  25360.51                 9.800215\n"
     ]
    }
   ],
   "source": [
    "# find the top 3 months (based on the total transaction amount) along with the\n",
    "# percentage contribution of each month’s total to the overall total transaction amount. Display the month name,\n",
    "# total transaction amount, and percentage contribution\n",
    "\n",
    "df[\"month_name\"] = df[\"transaction_date\"].dt.strftime(\"%B\")\n",
    "\n",
    "monthly_totals = df.groupby(\"month_name\").agg(\n",
    "    Total_Transaction_Amount=(\"amount\", \"sum\")\n",
    ").reset_index()\n",
    "\n",
    "overall_total = monthly_totals[\"Total_Transaction_Amount\"].sum()\n",
    "\n",
    "monthly_totals[\"Percentage_Contribution\"] = (\n",
    "    monthly_totals[\"Total_Transaction_Amount\"] / overall_total * 100\n",
    ")\n",
    "\n",
    "top_3_months = monthly_totals.sort_values(by=\"Total_Transaction_Amount\", ascending=False).head(3)\n",
    "print(top_3_months)\n",
    "\n"
   ]
  },
  {
   "cell_type": "code",
   "execution_count": 50,
   "metadata": {},
   "outputs": [
    {
     "data": {
      "text/html": [
       "<div>\n",
       "<style scoped>\n",
       "    .dataframe tbody tr th:only-of-type {\n",
       "        vertical-align: middle;\n",
       "    }\n",
       "\n",
       "    .dataframe tbody tr th {\n",
       "        vertical-align: top;\n",
       "    }\n",
       "\n",
       "    .dataframe thead th {\n",
       "        text-align: right;\n",
       "    }\n",
       "</style>\n",
       "<table border=\"1\" class=\"dataframe\">\n",
       "  <thead>\n",
       "    <tr style=\"text-align: right;\">\n",
       "      <th></th>\n",
       "      <th>transaction_id</th>\n",
       "      <th>customer_id</th>\n",
       "      <th>customer_name</th>\n",
       "      <th>transaction_date</th>\n",
       "      <th>amount</th>\n",
       "      <th>category</th>\n",
       "      <th>status</th>\n",
       "      <th>payment_method</th>\n",
       "      <th>region</th>\n",
       "      <th>merchant_name</th>\n",
       "      <th>month</th>\n",
       "    </tr>\n",
       "  </thead>\n",
       "  <tbody>\n",
       "    <tr>\n",
       "      <th>0</th>\n",
       "      <td>1</td>\n",
       "      <td>116</td>\n",
       "      <td>Hannah Taylor</td>\n",
       "      <td>2024-08-27</td>\n",
       "      <td>61.37</td>\n",
       "      <td>Income</td>\n",
       "      <td>Completed</td>\n",
       "      <td>Credit Card</td>\n",
       "      <td>West</td>\n",
       "      <td>Merchant_14</td>\n",
       "      <td>August</td>\n",
       "    </tr>\n",
       "    <tr>\n",
       "      <th>1</th>\n",
       "      <td>2</td>\n",
       "      <td>120</td>\n",
       "      <td>George King</td>\n",
       "      <td>2024-05-08</td>\n",
       "      <td>546.56</td>\n",
       "      <td>Expense</td>\n",
       "      <td>Completed</td>\n",
       "      <td>Bank Transfer</td>\n",
       "      <td>West</td>\n",
       "      <td>Merchant_8</td>\n",
       "      <td>May</td>\n",
       "    </tr>\n",
       "    <tr>\n",
       "      <th>2</th>\n",
       "      <td>3</td>\n",
       "      <td>112</td>\n",
       "      <td>Jessica Lee</td>\n",
       "      <td>2024-01-18</td>\n",
       "      <td>908.56</td>\n",
       "      <td>Expense</td>\n",
       "      <td>Completed</td>\n",
       "      <td>PayPal</td>\n",
       "      <td>West</td>\n",
       "      <td>Merchant_39</td>\n",
       "      <td>January</td>\n",
       "    </tr>\n",
       "    <tr>\n",
       "      <th>3</th>\n",
       "      <td>4</td>\n",
       "      <td>113</td>\n",
       "      <td>George King</td>\n",
       "      <td>2024-05-30</td>\n",
       "      <td>976.36</td>\n",
       "      <td>Expense</td>\n",
       "      <td>Pending</td>\n",
       "      <td>PayPal</td>\n",
       "      <td>South</td>\n",
       "      <td>Merchant_7</td>\n",
       "      <td>May</td>\n",
       "    </tr>\n",
       "    <tr>\n",
       "      <th>4</th>\n",
       "      <td>5</td>\n",
       "      <td>105</td>\n",
       "      <td>Fiona Green</td>\n",
       "      <td>2024-12-03</td>\n",
       "      <td>261.62</td>\n",
       "      <td>Expense</td>\n",
       "      <td>Completed</td>\n",
       "      <td>Debit Card</td>\n",
       "      <td>East</td>\n",
       "      <td>Merchant_30</td>\n",
       "      <td>December</td>\n",
       "    </tr>\n",
       "  </tbody>\n",
       "</table>\n",
       "</div>"
      ],
      "text/plain": [
       "   transaction_id  customer_id  customer_name transaction_date  amount  \\\n",
       "0               1          116  Hannah Taylor       2024-08-27   61.37   \n",
       "1               2          120    George King       2024-05-08  546.56   \n",
       "2               3          112    Jessica Lee       2024-01-18  908.56   \n",
       "3               4          113    George King       2024-05-30  976.36   \n",
       "4               5          105    Fiona Green       2024-12-03  261.62   \n",
       "\n",
       "  category     status payment_method region merchant_name     month  \n",
       "0   Income  Completed    Credit Card   West   Merchant_14    August  \n",
       "1  Expense  Completed  Bank Transfer   West    Merchant_8       May  \n",
       "2  Expense  Completed         PayPal   West   Merchant_39   January  \n",
       "3  Expense    Pending         PayPal  South    Merchant_7       May  \n",
       "4  Expense  Completed     Debit Card   East   Merchant_30  December  "
      ]
     },
     "execution_count": 50,
     "metadata": {},
     "output_type": "execute_result"
    }
   ],
   "source": [
    "df.head()"
   ]
  },
  {
   "cell_type": "code",
   "execution_count": null,
   "metadata": {},
   "outputs": [],
   "source": []
  }
 ],
 "metadata": {
  "kernelspec": {
   "display_name": "Python 3",
   "language": "python",
   "name": "python3"
  },
  "language_info": {
   "codemirror_mode": {
    "name": "ipython",
    "version": 3
   },
   "file_extension": ".py",
   "mimetype": "text/x-python",
   "name": "python",
   "nbconvert_exporter": "python",
   "pygments_lexer": "ipython3",
   "version": "3.12.1"
  }
 },
 "nbformat": 4,
 "nbformat_minor": 2
}
